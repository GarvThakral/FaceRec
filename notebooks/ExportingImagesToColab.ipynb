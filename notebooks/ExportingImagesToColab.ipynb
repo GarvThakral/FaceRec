{
 "cells": [
  {
   "cell_type": "code",
   "execution_count": 5,
   "id": "aba18f2b-2220-4768-af0f-2419b5e7eadd",
   "metadata": {},
   "outputs": [
    {
     "name": "stderr",
     "output_type": "stream",
     "text": [
      "2025-08-02 12:02:32.791685: E external/local_xla/xla/stream_executor/cuda/cuda_fft.cc:467] Unable to register cuFFT factory: Attempting to register factory for plugin cuFFT when one has already been registered\n",
      "WARNING: All log messages before absl::InitializeLog() is called are written to STDERR\n",
      "E0000 00:00:1754116352.849952    7563 cuda_dnn.cc:8579] Unable to register cuDNN factory: Attempting to register factory for plugin cuDNN when one has already been registered\n",
      "E0000 00:00:1754116352.866200    7563 cuda_blas.cc:1407] Unable to register cuBLAS factory: Attempting to register factory for plugin cuBLAS when one has already been registered\n",
      "W0000 00:00:1754116352.995683    7563 computation_placer.cc:177] computation placer already registered. Please check linkage and avoid linking the same target more than once.\n",
      "W0000 00:00:1754116352.995706    7563 computation_placer.cc:177] computation placer already registered. Please check linkage and avoid linking the same target more than once.\n",
      "W0000 00:00:1754116352.995708    7563 computation_placer.cc:177] computation placer already registered. Please check linkage and avoid linking the same target more than once.\n",
      "W0000 00:00:1754116352.995710    7563 computation_placer.cc:177] computation placer already registered. Please check linkage and avoid linking the same target more than once.\n",
      "2025-08-02 12:02:33.010689: I tensorflow/core/platform/cpu_feature_guard.cc:210] This TensorFlow binary is optimized to use available CPU instructions in performance-critical operations.\n",
      "To enable the following instructions: AVX2 FMA, in other operations, rebuild TensorFlow with the appropriate compiler flags.\n"
     ]
    }
   ],
   "source": [
    "import pandas as pd\n",
    "import tensorflow as tf\n",
    "import numpy as np\n",
    "import matplotlib.pyplot as plt"
   ]
  },
  {
   "cell_type": "code",
   "execution_count": 102,
   "id": "090e3a1d-b145-401a-89ee-4e79db576730",
   "metadata": {},
   "outputs": [],
   "source": [
    "imgPaths = pd.read_csv(\"/home/garvthakral/Downloads/datasets/archive (2)/CelebA FR Triplets/CelebA FR Triplets/triplets.csv\")\n",
    "anchorPaths = imgPaths['anchor']\n",
    "posPaths = imgPaths['pos']\n",
    "negPaths = imgPaths['neg']"
   ]
  },
  {
   "cell_type": "code",
   "execution_count": 103,
   "id": "5e2115b3-660e-4bab-8d1c-1b38edeff9a8",
   "metadata": {},
   "outputs": [],
   "source": [
    "imPath = \"/home/garvthakral/Downloads/datasets/archive (2)/CelebA FR Triplets/CelebA FR Triplets/images/\""
   ]
  },
  {
   "cell_type": "code",
   "execution_count": 104,
   "id": "5dd91e8c-5863-4a47-9d5d-f94c79601b15",
   "metadata": {},
   "outputs": [],
   "source": [
    "def preprocess_img(path):\n",
    "    image = tf.io.read_file(tf.strings.join([imPath, path]))\n",
    "    image = tf.io.decode_jpeg(image)\n",
    "    image = tf.image.resize_with_pad(image,128,128)\n",
    "    image = image/255\n",
    "    return image"
   ]
  },
  {
   "cell_type": "code",
   "execution_count": 105,
   "id": "d23dfd9e-7387-4372-a321-386cff6c20fc",
   "metadata": {},
   "outputs": [],
   "source": [
    "anchor_ds = tf.data.Dataset.from_tensor_slices(anchorPaths)\n",
    "pos_ds = tf.data.Dataset.from_tensor_slices(posPaths)\n",
    "neg_ds = tf.data.Dataset.from_tensor_slices(negPaths)"
   ]
  },
  {
   "cell_type": "code",
   "execution_count": 106,
   "id": "c0984a4f-0202-45c6-a59a-b66922db41b3",
   "metadata": {},
   "outputs": [],
   "source": [
    "anchor_ds = anchor_ds.map(preprocess_img)\n",
    "pos_ds = pos_ds.map(preprocess_img)\n",
    "neg_ds = neg_ds.map(preprocess_img)"
   ]
  },
  {
   "cell_type": "code",
   "execution_count": null,
   "id": "396c7bb5-6621-4b9c-859f-e8ed50e1e8c9",
   "metadata": {},
   "outputs": [],
   "source": [
    "# plt.imshow(anchor_data[0])\n",
    "# tf.data.experimental.save(anchor_ds,\"./here/anchor\")\n",
    "tf.data.experimental.save(neg_ds,\"./here/pos\")\n",
    "tf.data.experimental.save(pos_ds,\"./here/neg\")"
   ]
  }
 ],
 "metadata": {
  "kernelspec": {
   "display_name": "Python 3 (ipykernel)",
   "language": "python",
   "name": "python3"
  },
  "language_info": {
   "codemirror_mode": {
    "name": "ipython",
    "version": 3
   },
   "file_extension": ".py",
   "mimetype": "text/x-python",
   "name": "python",
   "nbconvert_exporter": "python",
   "pygments_lexer": "ipython3",
   "version": "3.12.2"
  }
 },
 "nbformat": 4,
 "nbformat_minor": 5
}
